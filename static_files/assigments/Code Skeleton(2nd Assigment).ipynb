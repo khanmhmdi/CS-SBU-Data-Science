{
 "cells": [
  {
   "cell_type": "code",
   "execution_count": 1,
   "id": "e35e7de0",
   "metadata": {},
   "outputs": [],
   "source": [
    "# Load basic libraries\n",
    "import pandas as pd\n",
    "import numpy as np\n",
    "\n",
    "from sklearn.ensemble import RandomForestRegressor\n",
    "from sklearn.metrics import mean_squared_error"
   ]
  },
  {
   "cell_type": "markdown",
   "id": "7a4f75e1",
   "metadata": {},
   "source": [
    "## Univariate Variable Analysis\n",
    "\n"
   ]
  },
  {
   "cell_type": "code",
   "execution_count": null,
   "id": "d78104b9",
   "metadata": {},
   "outputs": [],
   "source": []
  },
  {
   "cell_type": "markdown",
   "id": "9d28afcd",
   "metadata": {},
   "source": [
    "## Basic Data Analysis\n",
    "\n"
   ]
  },
  {
   "cell_type": "code",
   "execution_count": null,
   "id": "589efdc7",
   "metadata": {},
   "outputs": [],
   "source": []
  },
  {
   "cell_type": "markdown",
   "id": "9c30c1b0",
   "metadata": {},
   "source": [
    "\n",
    "## Feature Engineering\n",
    "\n"
   ]
  },
  {
   "cell_type": "code",
   "execution_count": null,
   "id": "682a7d26",
   "metadata": {},
   "outputs": [],
   "source": []
  },
  {
   "cell_type": "markdown",
   "id": "3a6887fe",
   "metadata": {},
   "source": [
    "## Feature transformation"
   ]
  },
  {
   "cell_type": "code",
   "execution_count": null,
   "id": "465ab667",
   "metadata": {},
   "outputs": [],
   "source": []
  },
  {
   "cell_type": "markdown",
   "id": "c04f1661",
   "metadata": {},
   "source": [
    "## Modeling"
   ]
  },
  {
   "cell_type": "markdown",
   "id": "03e7d6ca",
   "metadata": {},
   "source": [
    "Do not change this part of the code only run it!"
   ]
  },
  {
   "cell_type": "code",
   "execution_count": 1,
   "id": "08bc5eda",
   "metadata": {},
   "outputs": [],
   "source": [
    "from sklearn.ensemble import RandomForestRegressor\n",
    "from sklearn.metrics import mean_squared_error\n",
    "\n",
    "def train(X_train, y_train, X_test, y_test):\n",
    "    \"\"\"\n",
    "    Trains a RandomForestRegressor model and evaluates its performance using the mean squared error (MSE).\n",
    "\n",
    "    Parameters:\n",
    "    X_train (numpy.ndarray or pandas.DataFrame): The training data with (n_rows, n_features) shape.\n",
    "    y_train (numpy.ndarray or pandas.Series): The target variable for training data with (n_rows, 1) shape.\n",
    "    X_test (numpy.ndarray or pandas.DataFrame): The test data with (n_rows, n_features) shape.\n",
    "    y_test (numpy.ndarray or pandas.Series): The target variable for test data with (n_rows, 1) shape.\n",
    "\n",
    "    Returns:\n",
    "    float: The mean squared error (MSE) of the predictions (train data) made by the RandomForestRegressor.\n",
    "    float: The mean squared error (MSE) of the predictions (test data) made by the RandomForestRegressor.\n",
    "    \"\"\"\n",
    "    random_forest_regressor = RandomForestRegressor(criterion='squared_error')\n",
    "    random_forest_regressor.fit(X_train, y_train)\n",
    "    \n",
    "    y_pred_train = random_forest_regressor.predict(X_train)\n",
    "    mse_train = mean_squared_error(y_train, y_pred_train)\n",
    "    \n",
    "    y_pred_test = random_forest_regressor.predict(X_test)\n",
    "    mse_test = mean_squared_error(y_test, y_pred_test)\n",
    "\n",
    "    return mse_train, mse_test\n"
   ]
  },
  {
   "cell_type": "code",
   "execution_count": null,
   "id": "0e956c6d",
   "metadata": {},
   "outputs": [],
   "source": [
    "mse_train, mse_test = train(X_train=... , y_train=... , X_test=... , y_test=...)\n",
    "print(\"Train mse is: {} // Test mse is: {}\".format(mse_train,mse_test))"
   ]
  },
  {
   "cell_type": "markdown",
   "id": "c2078858",
   "metadata": {},
   "source": [
    "## Post processing"
   ]
  },
  {
   "cell_type": "markdown",
   "id": "da9e783d",
   "metadata": {},
   "source": [
    "Error Analysis: Analyzing the model's errors on the test data can provide valuable insights into its strengths and weaknesses. This involves identifying common error patterns, understanding the causes of errors, and exploring strategies to mitigate them.\n",
    "\n",
    "Feature Importance Analysis: Identifying the most important features contributing to the model's predictions can help in feature selection and dimensionality reduction. This can lead to a more efficient and interpretable preprocessing pipeline."
   ]
  },
  {
   "cell_type": "code",
   "execution_count": null,
   "id": "bc9d7b0d",
   "metadata": {},
   "outputs": [],
   "source": []
  }
 ],
 "metadata": {
  "kernelspec": {
   "display_name": "Python 3 (ipykernel)",
   "language": "python",
   "name": "python3"
  },
  "language_info": {
   "codemirror_mode": {
    "name": "ipython",
    "version": 3
   },
   "file_extension": ".py",
   "mimetype": "text/x-python",
   "name": "python",
   "nbconvert_exporter": "python",
   "pygments_lexer": "ipython3",
   "version": "3.9.13"
  }
 },
 "nbformat": 4,
 "nbformat_minor": 5
}
