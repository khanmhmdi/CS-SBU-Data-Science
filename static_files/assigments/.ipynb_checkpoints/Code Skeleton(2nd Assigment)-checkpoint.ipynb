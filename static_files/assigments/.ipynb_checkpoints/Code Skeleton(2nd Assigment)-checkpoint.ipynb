{
 "cells": [
  {
   "cell_type": "code",
   "execution_count": 3,
   "id": "c08e9347",
   "metadata": {},
   "outputs": [],
   "source": [
    "# Load basic libraries\n",
    "import pandas as pd\n",
    "import numpy as np\n",
    "\n",
    "from sklearn.ensemble import RandomForestRegressor\n",
    "from sklearn.metrics import mean_squared_error"
   ]
  },
  {
   "cell_type": "markdown",
   "id": "d67a9a33",
   "metadata": {},
   "source": [
    "## Univariate Variable Analysis\n",
    "\n"
   ]
  },
  {
   "cell_type": "code",
   "execution_count": null,
   "id": "af42f885",
   "metadata": {},
   "outputs": [],
   "source": []
  },
  {
   "cell_type": "markdown",
   "id": "df5d0f53",
   "metadata": {},
   "source": [
    "## Basic Data Analysis\n",
    "\n"
   ]
  },
  {
   "cell_type": "code",
   "execution_count": null,
   "id": "e1b98557",
   "metadata": {},
   "outputs": [],
   "source": []
  },
  {
   "cell_type": "markdown",
   "id": "5f1eab6a",
   "metadata": {},
   "source": [
    "\n",
    "## Feature Engineering\n",
    "\n"
   ]
  },
  {
   "cell_type": "code",
   "execution_count": null,
   "id": "d451318a",
   "metadata": {},
   "outputs": [],
   "source": []
  },
  {
   "cell_type": "markdown",
   "id": "e6778dea",
   "metadata": {},
   "source": [
    "## Feature transformation"
   ]
  },
  {
   "cell_type": "code",
   "execution_count": null,
   "id": "0ecd88ab",
   "metadata": {},
   "outputs": [],
   "source": []
  },
  {
   "cell_type": "markdown",
   "id": "bb40e22d",
   "metadata": {},
   "source": [
    "## Modeling"
   ]
  },
  {
   "cell_type": "markdown",
   "id": "38821128",
   "metadata": {},
   "source": [
    "Do not change this part of the code only run it!"
   ]
  },
  {
   "cell_type": "code",
   "execution_count": null,
   "id": "627c0563",
   "metadata": {},
   "outputs": [],
   "source": [
    "def train(X_train, y_train, X_test, y_test):\n",
    "    \"\"\"\n",
    "    Trains a RandomForestRegressor model and evaluates its performance using the mean squared error (MSE).\n",
    "\n",
    "    Parameters:\n",
    "    X (numpy.ndarray or pandas.DataFrame): The training data with (n_rows, n_features) shape.\n",
    "    y (numpy.ndarray or pandas.Series): The target variable (n_rows, 1) shape.\n",
    "\n",
    "    Returns:\n",
    "    float: The mean squared error (MSE) of the predictions(train data) made by the RandomForestRegressor.\n",
    "    float: The mean squared error (MSE) of the predictions(test data) made by the RandomForestRegressor.\n",
    "    \"\"\"\n",
    "    random_forest_regressor = RandomForestRegressor(criterion='mse')\n",
    "    random_forest_regressor.fit(X_train, y_train)\n",
    "    mse_train = random_forest_regressor.score(X_train, y_train)\n",
    "    \n",
    "    y_pred = random_forest_regressor.predict(X_test)\n",
    "\n",
    "    mse_test = mean_squared_error(y_test, y_pred)\n",
    "\n",
    "    return mse_train, mse_test"
   ]
  },
  {
   "cell_type": "code",
   "execution_count": null,
   "id": "cfe38671",
   "metadata": {},
   "outputs": [],
   "source": [
    "mse_train, mse_test = train(X_train=... , y_train=... , X_test=... , y_test=...)\n",
    "print(\"Train mse is: {} // Test mse is: {}\".format(mse_train,mse_test))"
   ]
  },
  {
   "cell_type": "markdown",
   "id": "6b3dedb6",
   "metadata": {},
   "source": [
    "## Post processing"
   ]
  },
  {
   "cell_type": "markdown",
   "id": "9a81aa41",
   "metadata": {},
   "source": [
    "Error Analysis: Analyzing the model's errors on the test data can provide valuable insights into its strengths and weaknesses. This involves identifying common error patterns, understanding the causes of errors, and exploring strategies to mitigate them.\n",
    "\n",
    "Feature Importance Analysis: Identifying the most important features contributing to the model's predictions can help in feature selection and dimensionality reduction. This can lead to a more efficient and interpretable preprocessing pipeline."
   ]
  },
  {
   "cell_type": "code",
   "execution_count": null,
   "id": "7fb9735a",
   "metadata": {},
   "outputs": [],
   "source": []
  }
 ],
 "metadata": {
  "kernelspec": {
   "display_name": "Python 3 (ipykernel)",
   "language": "python",
   "name": "python3"
  },
  "language_info": {
   "codemirror_mode": {
    "name": "ipython",
    "version": 3
   },
   "file_extension": ".py",
   "mimetype": "text/x-python",
   "name": "python",
   "nbconvert_exporter": "python",
   "pygments_lexer": "ipython3",
   "version": "3.9.13"
  }
 },
 "nbformat": 4,
 "nbformat_minor": 5
}
